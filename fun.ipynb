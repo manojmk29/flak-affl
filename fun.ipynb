{
 "cells": [
  {
   "cell_type": "code",
   "execution_count": 1,
   "metadata": {},
   "outputs": [
    {
     "data": {
      "text/plain": [
       "'https://www.amazon.in/dp/B09TVQQGK7?ie=UTF8&ref_=s9_acss_bw_cg_survey_1a1_w&tag=krishnaventur-21'"
      ]
     },
     "execution_count": 1,
     "metadata": {},
     "output_type": "execute_result"
    }
   ],
   "source": [
    "from urllib.parse import urlparse, urlunparse, parse_qs,urlencode\n",
    "def amazonify(url):\n",
    "    new_url = urlparse(url)\n",
    "    if not new_url.netloc:\n",
    "        return None\n",
    "    query_dict = parse_qs(new_url[4])\n",
    "    query_dict['tag'] = \"krishnaventur-21\"\n",
    "    new_url = new_url[:4] + (urlencode(query_dict, True), ) + new_url[5:]\n",
    "    return urlunparse(new_url)\n",
    "\n",
    "amazonify(\"https://www.amazon.in/dp/B09TVQQGK7?ie=UTF8&viewID=&ref_=s9_acss_bw_cg_survey_1a1_w\")"
   ]
  },
  {
   "cell_type": "code",
   "execution_count": null,
   "metadata": {},
   "outputs": [],
   "source": []
  }
 ],
 "metadata": {
  "interpreter": {
   "hash": "11ad92808b9e536a1bda76e6f18576c204b1bdc67c9013f7331a2b858d211f20"
  },
  "kernelspec": {
   "display_name": "Python 3.9.6 64-bit",
   "language": "python",
   "name": "python3"
  },
  "language_info": {
   "codemirror_mode": {
    "name": "ipython",
    "version": 3
   },
   "file_extension": ".py",
   "mimetype": "text/x-python",
   "name": "python",
   "nbconvert_exporter": "python",
   "pygments_lexer": "ipython3",
   "version": "3.9.6"
  },
  "orig_nbformat": 4
 },
 "nbformat": 4,
 "nbformat_minor": 2
}
